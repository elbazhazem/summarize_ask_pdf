{
 "cells": [
  {
   "cell_type": "markdown",
   "id": "d3c566f7-2555-4388-8e3a-928b1f3f5216",
   "metadata": {
    "jp-MarkdownHeadingCollapsed": true
   },
   "source": [
    "## 🧠 Summarize & Ask PDF using OpenAI API\n",
    "\n",
    "### 📌 What does this app do?\n",
    "This Streamlit app allows users to:\n",
    "1. Upload any PDF file\n",
    "2. Read and extract text from it\n",
    "3. Ask questions or request a summary\n",
    "4. Get real-time responses from OpenAI's LLM models\n",
    "\n",
    "### 🧰 Tools & Technologies\n",
    "- Python\n",
    "- Streamlit\n",
    "- OpenAI API\n",
    "- PyPDF2 / pdfplumber\n",
    "- dotenv\n",
    "\n",
    "### 🧪 How it works (Summary)\n",
    "- Load the PDF using PyPDF2\n",
    "- Display its content in the Streamlit interface\n",
    "- Let user select a part of the text or ask a question\n",
    "- Send it to OpenAI ChatCompletion API\n",
    "- Show the result as summary or answer\n",
    "\n",
    "### 🖼 Screenshot\n",
    "![App Screenshot](Screenshot.png)\n",
    "\n",
    "### 🔗 Resources\n",
    "- [GitHub Repo](https://github.com/elbazhazem/summarize_ask_pdf)\n",
    "- [Video I learned from](https://www.youtube.com/watch?v=yq803m5ESXI)\n",
    "\n",
    "### ✍️ What I Learned\n",
    "This was my first hands-on project using the OpenAI API. I learned:\n",
    "- How to create structured prompts\n",
    "- How to use Streamlit for quick UI\n",
    "- How to connect backend logic with OpenAI to process dynamic inputs\n",
    "\n",
    "---\n",
    "\n",
    "*Stay tuned for my next post where I connect this learning to cybersecurity logs processing using LLMs.*\n"
   ]
  },
  {
   "cell_type": "markdown",
   "id": "0db17302-500e-42fd-845d-bace3cf0d5be",
   "metadata": {},
   "source": [
    "## Code Building and Description \n",
    "\n",
    "### Step 01: Prepare our libraries \n",
    "- openai\n",
    "- pyPDF2\n",
    "- pdfplumber\n",
    "- streamlit\n",
    "- plotly\n",
    "- io\n",
    "\n",
    "in your terminal your can pip these libraries as follow:"
   ]
  },
  {
   "cell_type": "code",
   "execution_count": 1,
   "id": "ce289eda-18e3-47a1-8e3a-6dac729fb68b",
   "metadata": {},
   "outputs": [],
   "source": [
    "#pip install openai pyPDF2 pdfplumber\n",
    "#pip install --upgrade openai\n",
    "#pip install streamlit\n",
    "#pip install --upgrade plotly"
   ]
  },
  {
   "cell_type": "markdown",
   "id": "f51095e0-da41-453d-ad87-c78d4b68b3d0",
   "metadata": {},
   "source": [
    "After that you can impot them as shown:"
   ]
  },
  {
   "cell_type": "code",
   "execution_count": null,
   "id": "fbeba60e-f18d-4ff5-b3e3-a2e2034ab435",
   "metadata": {},
   "outputs": [],
   "source": [
    "#Import our libraries\n",
    "import os\n",
    "import openai\n",
    "import pdfplumber\n",
    "from openai import OpenAI\n",
    "from PIL import Image\n",
    "from io import BytesIO\n",
    "import streamlit as st"
   ]
  },
  {
   "cell_type": "markdown",
   "id": "cf4c6e36-dd5e-4054-a5ab-843ecf1a3bf3",
   "metadata": {},
   "source": [
    "### Step 02: Prepare OpenAI API key\n",
    "in this step you should have your own openai API key before. if you dont have before, you can gain one form the link : [http://platform.openai.com/api-keys] note:(you should have account on openai site.). after you gain your API key ypou will use in the next code."
   ]
  },
  {
   "cell_type": "code",
   "execution_count": null,
   "id": "9b1f8c33-852a-4637-a36d-a6e3c9262a8d",
   "metadata": {},
   "outputs": [],
   "source": [
    "# Set your OpenAI API key   \n",
    "os.environ[\"OPENAI_API_KEY\"] = \"\"\n",
    "\n",
    "# Initialize OpenAI client\n",
    "client = OpenAI(\n",
    "    api_key=os.environ.get(\"OPENAI_API_KEY\"),\n",
    ")"
   ]
  },
  {
   "cell_type": "markdown",
   "id": "84bb3d7c-49dc-4b64-876f-0c1fce575de4",
   "metadata": {},
   "source": [
    "### Step 03: Extract text from PDF file\n",
    "this step you will code to extract text form pdf file, to manipulate later and use the text reslut as you need.\n",
    "the code to do that is here."
   ]
  },
  {
   "cell_type": "code",
   "execution_count": null,
   "id": "489ae2fc-3a8f-46e9-87b1-fe1f446f8d38",
   "metadata": {},
   "outputs": [],
   "source": [
    "# Extact text from PDF file\n",
    "def extract_text_from_pdf(pdf_path):\n",
    "    text = \"\"\n",
    "    with pdfplumber.open(pdf_path) as pdf:\n",
    "        for page in pdf.pages:\n",
    "            page_text = page.extract_text()\n",
    "            if page_text:\n",
    "                text += page_text + \"\\n\"\n",
    "    return text"
   ]
  },
  {
   "cell_type": "markdown",
   "id": "9d15def8-1d5b-4683-88d3-7972399c8f27",
   "metadata": {},
   "source": [
    "### Step 04: Summarize the text using OpenAI's API\n",
    "in the following code you will use the result from previous function as input and make summarize the text as output. the code to do that  is here."
   ]
  },
  {
   "cell_type": "code",
   "execution_count": null,
   "id": "414192d0-99f9-44fe-8151-55dc86941e1a",
   "metadata": {},
   "outputs": [],
   "source": [
    "# Summazie the text using OpenAI's GPT-3.5 Turbo model\n",
    "def summarize_text(text):\n",
    "    \"\"\"Summarizes the text using OpenAI's latest API.\"\"\"\n",
    "    response = client.chat.completions.create(\n",
    "        model=\"gpt-3.5-turbo\",\n",
    "        messages=[\n",
    "            {\"role\": \"system\", \"content\": \"You are a helpful assistant that summarizes text.\"},\n",
    "            {\"role\": \"user\", \"content\": f\"Summarize the following text: {text}\"}\n",
    "        ],\n",
    "        max_tokens=300,\n",
    "        temperature=0.7\n",
    "    )\n",
    "    # summary = response['choices'][0]['message']['content']\n",
    "    summary = response.choices[0].message.content\n",
    "    return summary"
   ]
  },
  {
   "cell_type": "markdown",
   "id": "813a1a9e-6964-4156-86bb-fa996f9f2297",
   "metadata": {},
   "source": [
    "### Step 05: Ask a question about text using OpenAI's API\n",
    "here the app allow you to ask a question about the pdf file and it will answer your question. the code to do that is here."
   ]
  },
  {
   "cell_type": "code",
   "execution_count": null,
   "id": "8d86f37f-a8d5-47f8-9f12-3e2909fb35c3",
   "metadata": {},
   "outputs": [],
   "source": [
    "# Ask a question about the PDF file\n",
    "def ask_question(text, question):\n",
    "    response = client.chat.completions.create(\n",
    "        model=\"gpt-3.5-turbo\",\n",
    "        messages=[\n",
    "            {\"role\": \"system\", \"content\": \"You are a helpful assistant that answers questions about the provided text.\"},\n",
    "            {\"role\": \"user\", \"content\": f\"Please answer the following question based on the text:\\n\\n{text}\\n\\nQuestion: {question}\"}\n",
    "        ],\n",
    "        max_tokens=300,\n",
    "        temperature=0.7,\n",
    "    )\n",
    "    # answer = response['choices'][0]['message']['content']\n",
    "    answer = response.choices[0].message.content.strip()\n",
    "    return answer       "
   ]
  },
  {
   "cell_type": "markdown",
   "id": "10c78e73-0c51-49ca-88bc-61a260093c65",
   "metadata": {},
   "source": [
    "### Step 06: Create main function for the application\n",
    "the main function will contain the whole previous functions and collerate these to run as one application. the code to do that is here."
   ]
  },
  {
   "cell_type": "code",
   "execution_count": null,
   "id": "b12b8842-f46d-4528-9e14-eff343736eac",
   "metadata": {},
   "outputs": [],
   "source": [
    "# Main function to process the PDF and answer questions\n",
    "def main():\n",
    "    st.title(\"ChatGPT AI - PDF Chatbot summarize and asking\")\n",
    "    uploaded_file = st.file_uploader(\"Upload a PDF\", type=\"pdf\")\n",
    "    \n",
    "    if uploaded_file is not None:\n",
    "        text = extract_text_from_pdf(uploaded_file)\n",
    "        if text:\n",
    "            st.write(\"Text extracted from the PDF:\")\n",
    "            st.text_area(\"Extracted Text\", text, height=150)\n",
    "            \n",
    "            # Show a summary of the text\n",
    "            if st.button(\"Summarize Text\"):\n",
    "                summary = summarize_text(text)\n",
    "                st.subheader(\"Summary:\")\n",
    "                st.write(summary)\n",
    "\n",
    "            # Ask questions about the text\n",
    "            question = st.text_input(\"Ask a question based on the text\")\n",
    "            if st.button(\"Get Answer\"):\n",
    "                answer = ask_question_about_text(text, question)\n",
    "                st.subheader(\"Answer:\")\n",
    "                st.write(answer)\n",
    "        else:\n",
    "            st.error(\"No text could be extracted from this PDF.\")\n",
    "\n",
    "if __name__ == \"__main__\":\n",
    "    main()"
   ]
  },
  {
   "cell_type": "markdown",
   "id": "784ab27f-b6b5-4b6e-b84a-fd73dd213c2e",
   "metadata": {},
   "source": [
    "## Final Result in one file "
   ]
  },
  {
   "cell_type": "code",
   "execution_count": null,
   "id": "d86b8de0-7cf5-4160-9df1-d0fd1e957e78",
   "metadata": {},
   "outputs": [],
   "source": [
    "#Import our libraries\n",
    "import os\n",
    "import openai\n",
    "import pdfplumber\n",
    "from openai import OpenAI\n",
    "from PIL import Image\n",
    "from io import BytesIO\n",
    "import streamlit as st\n",
    "\n",
    "\n",
    "# Set your OpenAI API key   \n",
    "os.environ[\"OPENAI_API_KEY\"] = \"\"\n",
    "\n",
    "# Initialize OpenAI client\n",
    "client = OpenAI(\n",
    "    api_key=os.environ.get(\"OPENAI_API_KEY\"),\n",
    ")\n",
    "\n",
    "# Extact text from PDF file\n",
    "def extract_text_from_pdf(pdf_path):\n",
    "    text = \"\"\n",
    "    with pdfplumber.open(pdf_path) as pdf:\n",
    "        for page in pdf.pages:\n",
    "            page_text = page.extract_text()\n",
    "            if page_text:\n",
    "                text += page_text + \"\\n\"\n",
    "    return text\n",
    "\n",
    " # Summazie the text using OpenAI's GPT-3.5 Turbo model\n",
    "def summarize_text(text):\n",
    "    \"\"\"Summarizes the text using OpenAI's latest API.\"\"\"\n",
    "    response = client.chat.completions.create(\n",
    "        model=\"gpt-3.5-turbo\",\n",
    "        messages=[\n",
    "            {\"role\": \"system\", \"content\": \"You are a helpful assistant that summarizes text.\"},\n",
    "            {\"role\": \"user\", \"content\": f\"Summarize the following text: {text}\"}\n",
    "        ],\n",
    "        max_tokens=300,\n",
    "        temperature=0.7\n",
    "    )\n",
    "    # summary = response['choices'][0]['message']['content']\n",
    "    summary = response.choices[0].message.content\n",
    "    return summary\n",
    "\n",
    "# Ask a question about the PDF file\n",
    "def ask_question(text, question):\n",
    "    response = client.chat.completions.create(\n",
    "        model=\"gpt-3.5-turbo\",\n",
    "        messages=[\n",
    "            {\"role\": \"system\", \"content\": \"You are a helpful assistant that answers questions about the provided text.\"},\n",
    "            {\"role\": \"user\", \"content\": f\"Please answer the following question based on the text:\\n\\n{text}\\n\\nQuestion: {question}\"}\n",
    "        ],\n",
    "        max_tokens=300,\n",
    "        temperature=0.7,\n",
    "    )\n",
    "    # answer = response['choices'][0]['message']['content']\n",
    "    answer = response.choices[0].message.content.strip()\n",
    "    return answer       \n",
    "\n",
    "# Main function to process the PDF and answer questions\n",
    "def main():\n",
    "    st.title(\"Chat GPT AI - PDF Chatbot\")\n",
    "    uploaded_file = st.file_uploader(\"Upload a PDF\", type=\"pdf\")\n",
    "    \n",
    "    if uploaded_file is not None:\n",
    "        text = extract_text_from_pdf(uploaded_file)\n",
    "        if text:\n",
    "            st.write(\"Text extracted from the PDF:\")\n",
    "            st.text_area(\"Extracted Text\", text, height=150)\n",
    "            \n",
    "            # Show a summary of the text\n",
    "            if st.button(\"Summarize Text\"):\n",
    "                summary = summarize_text(text)\n",
    "                st.subheader(\"Summary:\")\n",
    "                st.write(summary)\n",
    "\n",
    "            # Ask questions about the text\n",
    "            question = st.text_input(\"Ask a question based on the text\")\n",
    "            if st.button(\"Get Answer\"):\n",
    "                answer = ask_question_about_text(text, question)\n",
    "                st.subheader(\"Answer:\")\n",
    "                st.write(answer)\n",
    "        else:\n",
    "            st.error(\"No text could be extracted from this PDF.\")\n",
    "\n",
    "if __name__ == \"__main__\":\n",
    "    main()"
   ]
  }
 ],
 "metadata": {
  "kernelspec": {
   "display_name": "Python 3 (ipykernel)",
   "language": "python",
   "name": "python3"
  },
  "language_info": {
   "codemirror_mode": {
    "name": "ipython",
    "version": 3
   },
   "file_extension": ".py",
   "mimetype": "text/x-python",
   "name": "python",
   "nbconvert_exporter": "python",
   "pygments_lexer": "ipython3",
   "version": "3.13.3"
  }
 },
 "nbformat": 4,
 "nbformat_minor": 5
}
